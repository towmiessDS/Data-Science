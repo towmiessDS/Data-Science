{
 "cells": [
  {
   "cell_type": "markdown",
   "id": "0c4d5dbf",
   "metadata": {},
   "source": [
    "# **CUSTOMER SEGMENT**"
   ]
  },
  {
   "cell_type": "markdown",
   "id": "2a28eb9e",
   "metadata": {},
   "source": []
  },
  {
   "cell_type": "markdown",
   "id": "8ad7dfd1",
   "metadata": {},
   "source": [
    "## **1.Import libary**"
   ]
  },
  {
   "cell_type": "code",
   "execution_count": 1,
   "id": "8c4a672b",
   "metadata": {},
   "outputs": [],
   "source": [
    "# data analysis libraries\n",
    "import pandas as pd\n",
    "import numpy as np\n",
    "from datetime import datetime \n",
    "\n",
    "# data visualization libraries\n",
    "import matplotlib as mpl\n",
    "import matplotlib.pyplot as plt\n",
    "import plotly.express as px\n",
    "import seaborn as sns\n",
    "\n",
    "# machine learning\n",
    "from sklearn.preprocessing import StandardScaler, LabelEncoder\n",
    "from sklearn.cluster import AgglomerativeClustering\n",
    "from sklearn.metrics import silhouette_score, calinski_harabasz_score\n",
    "from sklearn.cluster import KMeans\n",
    "from sklearn.decomposition import PCA\n",
    "\n",
    "# remove warnings\n",
    "import warnings\n",
    "warnings.filterwarnings('ignore')\n",
    "\n"
   ]
  },
  {
   "cell_type": "markdown",
   "id": "6fb57695",
   "metadata": {},
   "source": [
    "## **2.Reading Data**"
   ]
  },
  {
   "cell_type": "code",
   "execution_count": 2,
   "id": "97ceeac7",
   "metadata": {},
   "outputs": [
    {
     "data": {
      "application/vnd.microsoft.datawrangler.viewer.v0+json": {
       "columns": [
        {
         "name": "index",
         "rawType": "int64",
         "type": "integer"
        },
        {
         "name": "ID",
         "rawType": "int64",
         "type": "integer"
        },
        {
         "name": "Year_Birth",
         "rawType": "int64",
         "type": "integer"
        },
        {
         "name": "Education",
         "rawType": "object",
         "type": "string"
        },
        {
         "name": "Marital_Status",
         "rawType": "object",
         "type": "string"
        },
        {
         "name": "Income",
         "rawType": "float64",
         "type": "float"
        },
        {
         "name": "Kidhome",
         "rawType": "int64",
         "type": "integer"
        },
        {
         "name": "Teenhome",
         "rawType": "int64",
         "type": "integer"
        },
        {
         "name": "Dt_Customer",
         "rawType": "object",
         "type": "string"
        },
        {
         "name": "Recency",
         "rawType": "int64",
         "type": "integer"
        },
        {
         "name": "MntWines",
         "rawType": "int64",
         "type": "integer"
        },
        {
         "name": "MntFruits",
         "rawType": "int64",
         "type": "integer"
        },
        {
         "name": "MntMeatProducts",
         "rawType": "int64",
         "type": "integer"
        },
        {
         "name": "MntFishProducts",
         "rawType": "int64",
         "type": "integer"
        },
        {
         "name": "MntSweetProducts",
         "rawType": "int64",
         "type": "integer"
        },
        {
         "name": "MntGoldProds",
         "rawType": "int64",
         "type": "integer"
        },
        {
         "name": "NumDealsPurchases",
         "rawType": "int64",
         "type": "integer"
        },
        {
         "name": "NumWebPurchases",
         "rawType": "int64",
         "type": "integer"
        },
        {
         "name": "NumCatalogPurchases",
         "rawType": "int64",
         "type": "integer"
        },
        {
         "name": "NumStorePurchases",
         "rawType": "int64",
         "type": "integer"
        },
        {
         "name": "NumWebVisitsMonth",
         "rawType": "int64",
         "type": "integer"
        },
        {
         "name": "AcceptedCmp3",
         "rawType": "int64",
         "type": "integer"
        },
        {
         "name": "AcceptedCmp4",
         "rawType": "int64",
         "type": "integer"
        },
        {
         "name": "AcceptedCmp5",
         "rawType": "int64",
         "type": "integer"
        },
        {
         "name": "AcceptedCmp1",
         "rawType": "int64",
         "type": "integer"
        },
        {
         "name": "AcceptedCmp2",
         "rawType": "int64",
         "type": "integer"
        },
        {
         "name": "Complain",
         "rawType": "int64",
         "type": "integer"
        },
        {
         "name": "Z_CostContact",
         "rawType": "int64",
         "type": "integer"
        },
        {
         "name": "Z_Revenue",
         "rawType": "int64",
         "type": "integer"
        },
        {
         "name": "Response",
         "rawType": "int64",
         "type": "integer"
        }
       ],
       "ref": "34e7b5f7-c197-4ca9-a050-6dabac63375c",
       "rows": [
        [
         "0",
         "5524",
         "1957",
         "Graduation",
         "Single",
         "58138.0",
         "0",
         "0",
         "04-09-2012",
         "58",
         "635",
         "88",
         "546",
         "172",
         "88",
         "88",
         "3",
         "8",
         "10",
         "4",
         "7",
         "0",
         "0",
         "0",
         "0",
         "0",
         "0",
         "3",
         "11",
         "1"
        ],
        [
         "1",
         "2174",
         "1954",
         "Graduation",
         "Single",
         "46344.0",
         "1",
         "1",
         "08-03-2014",
         "38",
         "11",
         "1",
         "6",
         "2",
         "1",
         "6",
         "2",
         "1",
         "1",
         "2",
         "5",
         "0",
         "0",
         "0",
         "0",
         "0",
         "0",
         "3",
         "11",
         "0"
        ],
        [
         "2",
         "4141",
         "1965",
         "Graduation",
         "Together",
         "71613.0",
         "0",
         "0",
         "21-08-2013",
         "26",
         "426",
         "49",
         "127",
         "111",
         "21",
         "42",
         "1",
         "8",
         "2",
         "10",
         "4",
         "0",
         "0",
         "0",
         "0",
         "0",
         "0",
         "3",
         "11",
         "0"
        ],
        [
         "3",
         "6182",
         "1984",
         "Graduation",
         "Together",
         "26646.0",
         "1",
         "0",
         "10-02-2014",
         "26",
         "11",
         "4",
         "20",
         "10",
         "3",
         "5",
         "2",
         "2",
         "0",
         "4",
         "6",
         "0",
         "0",
         "0",
         "0",
         "0",
         "0",
         "3",
         "11",
         "0"
        ],
        [
         "4",
         "5324",
         "1981",
         "PhD",
         "Married",
         "58293.0",
         "1",
         "0",
         "19-01-2014",
         "94",
         "173",
         "43",
         "118",
         "46",
         "27",
         "15",
         "5",
         "5",
         "3",
         "6",
         "5",
         "0",
         "0",
         "0",
         "0",
         "0",
         "0",
         "3",
         "11",
         "0"
        ]
       ],
       "shape": {
        "columns": 29,
        "rows": 5
       }
      },
      "text/html": [
       "<div>\n",
       "<style scoped>\n",
       "    .dataframe tbody tr th:only-of-type {\n",
       "        vertical-align: middle;\n",
       "    }\n",
       "\n",
       "    .dataframe tbody tr th {\n",
       "        vertical-align: top;\n",
       "    }\n",
       "\n",
       "    .dataframe thead th {\n",
       "        text-align: right;\n",
       "    }\n",
       "</style>\n",
       "<table border=\"1\" class=\"dataframe\">\n",
       "  <thead>\n",
       "    <tr style=\"text-align: right;\">\n",
       "      <th></th>\n",
       "      <th>ID</th>\n",
       "      <th>Year_Birth</th>\n",
       "      <th>Education</th>\n",
       "      <th>Marital_Status</th>\n",
       "      <th>Income</th>\n",
       "      <th>Kidhome</th>\n",
       "      <th>Teenhome</th>\n",
       "      <th>Dt_Customer</th>\n",
       "      <th>Recency</th>\n",
       "      <th>MntWines</th>\n",
       "      <th>MntFruits</th>\n",
       "      <th>MntMeatProducts</th>\n",
       "      <th>MntFishProducts</th>\n",
       "      <th>MntSweetProducts</th>\n",
       "      <th>MntGoldProds</th>\n",
       "      <th>NumDealsPurchases</th>\n",
       "      <th>NumWebPurchases</th>\n",
       "      <th>NumCatalogPurchases</th>\n",
       "      <th>NumStorePurchases</th>\n",
       "      <th>NumWebVisitsMonth</th>\n",
       "      <th>AcceptedCmp3</th>\n",
       "      <th>AcceptedCmp4</th>\n",
       "      <th>AcceptedCmp5</th>\n",
       "      <th>AcceptedCmp1</th>\n",
       "      <th>AcceptedCmp2</th>\n",
       "      <th>Complain</th>\n",
       "      <th>Z_CostContact</th>\n",
       "      <th>Z_Revenue</th>\n",
       "      <th>Response</th>\n",
       "    </tr>\n",
       "  </thead>\n",
       "  <tbody>\n",
       "    <tr>\n",
       "      <th>0</th>\n",
       "      <td>5524</td>\n",
       "      <td>1957</td>\n",
       "      <td>Graduation</td>\n",
       "      <td>Single</td>\n",
       "      <td>58138.0</td>\n",
       "      <td>0</td>\n",
       "      <td>0</td>\n",
       "      <td>04-09-2012</td>\n",
       "      <td>58</td>\n",
       "      <td>635</td>\n",
       "      <td>88</td>\n",
       "      <td>546</td>\n",
       "      <td>172</td>\n",
       "      <td>88</td>\n",
       "      <td>88</td>\n",
       "      <td>3</td>\n",
       "      <td>8</td>\n",
       "      <td>10</td>\n",
       "      <td>4</td>\n",
       "      <td>7</td>\n",
       "      <td>0</td>\n",
       "      <td>0</td>\n",
       "      <td>0</td>\n",
       "      <td>0</td>\n",
       "      <td>0</td>\n",
       "      <td>0</td>\n",
       "      <td>3</td>\n",
       "      <td>11</td>\n",
       "      <td>1</td>\n",
       "    </tr>\n",
       "    <tr>\n",
       "      <th>1</th>\n",
       "      <td>2174</td>\n",
       "      <td>1954</td>\n",
       "      <td>Graduation</td>\n",
       "      <td>Single</td>\n",
       "      <td>46344.0</td>\n",
       "      <td>1</td>\n",
       "      <td>1</td>\n",
       "      <td>08-03-2014</td>\n",
       "      <td>38</td>\n",
       "      <td>11</td>\n",
       "      <td>1</td>\n",
       "      <td>6</td>\n",
       "      <td>2</td>\n",
       "      <td>1</td>\n",
       "      <td>6</td>\n",
       "      <td>2</td>\n",
       "      <td>1</td>\n",
       "      <td>1</td>\n",
       "      <td>2</td>\n",
       "      <td>5</td>\n",
       "      <td>0</td>\n",
       "      <td>0</td>\n",
       "      <td>0</td>\n",
       "      <td>0</td>\n",
       "      <td>0</td>\n",
       "      <td>0</td>\n",
       "      <td>3</td>\n",
       "      <td>11</td>\n",
       "      <td>0</td>\n",
       "    </tr>\n",
       "    <tr>\n",
       "      <th>2</th>\n",
       "      <td>4141</td>\n",
       "      <td>1965</td>\n",
       "      <td>Graduation</td>\n",
       "      <td>Together</td>\n",
       "      <td>71613.0</td>\n",
       "      <td>0</td>\n",
       "      <td>0</td>\n",
       "      <td>21-08-2013</td>\n",
       "      <td>26</td>\n",
       "      <td>426</td>\n",
       "      <td>49</td>\n",
       "      <td>127</td>\n",
       "      <td>111</td>\n",
       "      <td>21</td>\n",
       "      <td>42</td>\n",
       "      <td>1</td>\n",
       "      <td>8</td>\n",
       "      <td>2</td>\n",
       "      <td>10</td>\n",
       "      <td>4</td>\n",
       "      <td>0</td>\n",
       "      <td>0</td>\n",
       "      <td>0</td>\n",
       "      <td>0</td>\n",
       "      <td>0</td>\n",
       "      <td>0</td>\n",
       "      <td>3</td>\n",
       "      <td>11</td>\n",
       "      <td>0</td>\n",
       "    </tr>\n",
       "    <tr>\n",
       "      <th>3</th>\n",
       "      <td>6182</td>\n",
       "      <td>1984</td>\n",
       "      <td>Graduation</td>\n",
       "      <td>Together</td>\n",
       "      <td>26646.0</td>\n",
       "      <td>1</td>\n",
       "      <td>0</td>\n",
       "      <td>10-02-2014</td>\n",
       "      <td>26</td>\n",
       "      <td>11</td>\n",
       "      <td>4</td>\n",
       "      <td>20</td>\n",
       "      <td>10</td>\n",
       "      <td>3</td>\n",
       "      <td>5</td>\n",
       "      <td>2</td>\n",
       "      <td>2</td>\n",
       "      <td>0</td>\n",
       "      <td>4</td>\n",
       "      <td>6</td>\n",
       "      <td>0</td>\n",
       "      <td>0</td>\n",
       "      <td>0</td>\n",
       "      <td>0</td>\n",
       "      <td>0</td>\n",
       "      <td>0</td>\n",
       "      <td>3</td>\n",
       "      <td>11</td>\n",
       "      <td>0</td>\n",
       "    </tr>\n",
       "    <tr>\n",
       "      <th>4</th>\n",
       "      <td>5324</td>\n",
       "      <td>1981</td>\n",
       "      <td>PhD</td>\n",
       "      <td>Married</td>\n",
       "      <td>58293.0</td>\n",
       "      <td>1</td>\n",
       "      <td>0</td>\n",
       "      <td>19-01-2014</td>\n",
       "      <td>94</td>\n",
       "      <td>173</td>\n",
       "      <td>43</td>\n",
       "      <td>118</td>\n",
       "      <td>46</td>\n",
       "      <td>27</td>\n",
       "      <td>15</td>\n",
       "      <td>5</td>\n",
       "      <td>5</td>\n",
       "      <td>3</td>\n",
       "      <td>6</td>\n",
       "      <td>5</td>\n",
       "      <td>0</td>\n",
       "      <td>0</td>\n",
       "      <td>0</td>\n",
       "      <td>0</td>\n",
       "      <td>0</td>\n",
       "      <td>0</td>\n",
       "      <td>3</td>\n",
       "      <td>11</td>\n",
       "      <td>0</td>\n",
       "    </tr>\n",
       "  </tbody>\n",
       "</table>\n",
       "</div>"
      ],
      "text/plain": [
       "     ID  Year_Birth   Education Marital_Status   Income  Kidhome  Teenhome  \\\n",
       "0  5524        1957  Graduation         Single  58138.0        0         0   \n",
       "1  2174        1954  Graduation         Single  46344.0        1         1   \n",
       "2  4141        1965  Graduation       Together  71613.0        0         0   \n",
       "3  6182        1984  Graduation       Together  26646.0        1         0   \n",
       "4  5324        1981         PhD        Married  58293.0        1         0   \n",
       "\n",
       "  Dt_Customer  Recency  MntWines  MntFruits  MntMeatProducts  MntFishProducts  \\\n",
       "0  04-09-2012       58       635         88              546              172   \n",
       "1  08-03-2014       38        11          1                6                2   \n",
       "2  21-08-2013       26       426         49              127              111   \n",
       "3  10-02-2014       26        11          4               20               10   \n",
       "4  19-01-2014       94       173         43              118               46   \n",
       "\n",
       "   MntSweetProducts  MntGoldProds  NumDealsPurchases  NumWebPurchases  \\\n",
       "0                88            88                  3                8   \n",
       "1                 1             6                  2                1   \n",
       "2                21            42                  1                8   \n",
       "3                 3             5                  2                2   \n",
       "4                27            15                  5                5   \n",
       "\n",
       "   NumCatalogPurchases  NumStorePurchases  NumWebVisitsMonth  AcceptedCmp3  \\\n",
       "0                   10                  4                  7             0   \n",
       "1                    1                  2                  5             0   \n",
       "2                    2                 10                  4             0   \n",
       "3                    0                  4                  6             0   \n",
       "4                    3                  6                  5             0   \n",
       "\n",
       "   AcceptedCmp4  AcceptedCmp5  AcceptedCmp1  AcceptedCmp2  Complain  \\\n",
       "0             0             0             0             0         0   \n",
       "1             0             0             0             0         0   \n",
       "2             0             0             0             0         0   \n",
       "3             0             0             0             0         0   \n",
       "4             0             0             0             0         0   \n",
       "\n",
       "   Z_CostContact  Z_Revenue  Response  \n",
       "0              3         11         1  \n",
       "1              3         11         0  \n",
       "2              3         11         0  \n",
       "3              3         11         0  \n",
       "4              3         11         0  "
      ]
     },
     "execution_count": 2,
     "metadata": {},
     "output_type": "execute_result"
    }
   ],
   "source": [
    "#set display options\n",
    "pd.set_option('display.max_columns', 50)\n",
    "pd.set_option('display.max_rows', 15)\n",
    "\n",
    "df_org = pd.read_csv(\"marketing_campaign.csv\", sep=\"\\t\")\n",
    "df_org.head()"
   ]
  },
  {
   "cell_type": "code",
   "execution_count": 3,
   "id": "767c2e41",
   "metadata": {},
   "outputs": [
    {
     "data": {
      "text/plain": [
       "(2240, 29)"
      ]
     },
     "execution_count": 3,
     "metadata": {},
     "output_type": "execute_result"
    }
   ],
   "source": [
    "df_org.shape"
   ]
  },
  {
   "cell_type": "code",
   "execution_count": 4,
   "id": "478f1037",
   "metadata": {},
   "outputs": [
    {
     "name": "stdout",
     "output_type": "stream",
     "text": [
      "<class 'pandas.core.frame.DataFrame'>\n",
      "RangeIndex: 2240 entries, 0 to 2239\n",
      "Data columns (total 29 columns):\n",
      " #   Column               Non-Null Count  Dtype  \n",
      "---  ------               --------------  -----  \n",
      " 0   ID                   2240 non-null   int64  \n",
      " 1   Year_Birth           2240 non-null   int64  \n",
      " 2   Education            2240 non-null   object \n",
      " 3   Marital_Status       2240 non-null   object \n",
      " 4   Income               2216 non-null   float64\n",
      " 5   Kidhome              2240 non-null   int64  \n",
      " 6   Teenhome             2240 non-null   int64  \n",
      " 7   Dt_Customer          2240 non-null   object \n",
      " 8   Recency              2240 non-null   int64  \n",
      " 9   MntWines             2240 non-null   int64  \n",
      " 10  MntFruits            2240 non-null   int64  \n",
      " 11  MntMeatProducts      2240 non-null   int64  \n",
      " 12  MntFishProducts      2240 non-null   int64  \n",
      " 13  MntSweetProducts     2240 non-null   int64  \n",
      " 14  MntGoldProds         2240 non-null   int64  \n",
      " 15  NumDealsPurchases    2240 non-null   int64  \n",
      " 16  NumWebPurchases      2240 non-null   int64  \n",
      " 17  NumCatalogPurchases  2240 non-null   int64  \n",
      " 18  NumStorePurchases    2240 non-null   int64  \n",
      " 19  NumWebVisitsMonth    2240 non-null   int64  \n",
      " 20  AcceptedCmp3         2240 non-null   int64  \n",
      " 21  AcceptedCmp4         2240 non-null   int64  \n",
      " 22  AcceptedCmp5         2240 non-null   int64  \n",
      " 23  AcceptedCmp1         2240 non-null   int64  \n",
      " 24  AcceptedCmp2         2240 non-null   int64  \n",
      " 25  Complain             2240 non-null   int64  \n",
      " 26  Z_CostContact        2240 non-null   int64  \n",
      " 27  Z_Revenue            2240 non-null   int64  \n",
      " 28  Response             2240 non-null   int64  \n",
      "dtypes: float64(1), int64(25), object(3)\n",
      "memory usage: 507.6+ KB\n"
     ]
    }
   ],
   "source": [
    "df_org.info()"
   ]
  },
  {
   "cell_type": "code",
   "execution_count": 5,
   "id": "ec05deab",
   "metadata": {},
   "outputs": [
    {
     "data": {
      "application/vnd.microsoft.datawrangler.viewer.v0+json": {
       "columns": [
        {
         "name": "index",
         "rawType": "object",
         "type": "string"
        },
        {
         "name": "0",
         "rawType": "int64",
         "type": "integer"
        }
       ],
       "ref": "0925136e-c4b6-43c5-9ba9-02d3e3b2a135",
       "rows": [
        [
         "ID",
         "0"
        ],
        [
         "Year_Birth",
         "0"
        ],
        [
         "Education",
         "0"
        ],
        [
         "Marital_Status",
         "0"
        ],
        [
         "Income",
         "24"
        ],
        [
         "Kidhome",
         "0"
        ],
        [
         "Teenhome",
         "0"
        ],
        [
         "Dt_Customer",
         "0"
        ],
        [
         "Recency",
         "0"
        ],
        [
         "MntWines",
         "0"
        ],
        [
         "MntFruits",
         "0"
        ],
        [
         "MntMeatProducts",
         "0"
        ],
        [
         "MntFishProducts",
         "0"
        ],
        [
         "MntSweetProducts",
         "0"
        ],
        [
         "MntGoldProds",
         "0"
        ],
        [
         "NumDealsPurchases",
         "0"
        ],
        [
         "NumWebPurchases",
         "0"
        ],
        [
         "NumCatalogPurchases",
         "0"
        ],
        [
         "NumStorePurchases",
         "0"
        ],
        [
         "NumWebVisitsMonth",
         "0"
        ],
        [
         "AcceptedCmp3",
         "0"
        ],
        [
         "AcceptedCmp4",
         "0"
        ],
        [
         "AcceptedCmp5",
         "0"
        ],
        [
         "AcceptedCmp1",
         "0"
        ],
        [
         "AcceptedCmp2",
         "0"
        ],
        [
         "Complain",
         "0"
        ],
        [
         "Z_CostContact",
         "0"
        ],
        [
         "Z_Revenue",
         "0"
        ],
        [
         "Response",
         "0"
        ]
       ],
       "shape": {
        "columns": 1,
        "rows": 29
       }
      },
      "text/plain": [
       "ID                 0\n",
       "Year_Birth         0\n",
       "Education          0\n",
       "Marital_Status     0\n",
       "Income            24\n",
       "                  ..\n",
       "AcceptedCmp2       0\n",
       "Complain           0\n",
       "Z_CostContact      0\n",
       "Z_Revenue          0\n",
       "Response           0\n",
       "Length: 29, dtype: int64"
      ]
     },
     "execution_count": 5,
     "metadata": {},
     "output_type": "execute_result"
    }
   ],
   "source": [
    "# check missing values\n",
    "df_org.isnull().sum()\n"
   ]
  },
  {
   "cell_type": "code",
   "execution_count": 6,
   "id": "780f2d9f",
   "metadata": {},
   "outputs": [
    {
     "data": {
      "text/plain": [
       "0"
      ]
     },
     "execution_count": 6,
     "metadata": {},
     "output_type": "execute_result"
    }
   ],
   "source": [
    "# check duplicates\n",
    "df_org.duplicated().sum()"
   ]
  },
  {
   "cell_type": "markdown",
   "id": "bfa0dee0",
   "metadata": {},
   "source": [
    "**=>** The DataFrame needs cleaning before feature engineering:\n",
    "- The “Income” column has 24 missing values.\n",
    "- The “Dt_Customer” column is stored as an object in “dd-mm-yyyy” format instead of datetime64[ns].\n",
    "- The “Education” and “Marital_Status” columns are categorical."
   ]
  },
  {
   "cell_type": "markdown",
   "id": "ac039a90",
   "metadata": {},
   "source": [
    "### **Cleanning Data**"
   ]
  },
  {
   "cell_type": "code",
   "execution_count": 7,
   "id": "c5e7532b",
   "metadata": {},
   "outputs": [],
   "source": [
    "# make a copy of original dataframe\n",
    "df = df_org.copy()"
   ]
  },
  {
   "cell_type": "code",
   "execution_count": 8,
   "id": "e6620266",
   "metadata": {},
   "outputs": [
    {
     "data": {
      "application/vnd.microsoft.datawrangler.viewer.v0+json": {
       "columns": [
        {
         "name": "index",
         "rawType": "object",
         "type": "string"
        },
        {
         "name": "0",
         "rawType": "int64",
         "type": "integer"
        }
       ],
       "ref": "20a2daaa-b5da-4cca-9e4a-6c7c508edb30",
       "rows": [
        [
         "ID",
         "0"
        ],
        [
         "Year_Birth",
         "0"
        ],
        [
         "Education",
         "0"
        ],
        [
         "Marital_Status",
         "0"
        ],
        [
         "Income",
         "0"
        ],
        [
         "Kidhome",
         "0"
        ],
        [
         "Teenhome",
         "0"
        ],
        [
         "Dt_Customer",
         "0"
        ],
        [
         "Recency",
         "0"
        ],
        [
         "MntWines",
         "0"
        ],
        [
         "MntFruits",
         "0"
        ],
        [
         "MntMeatProducts",
         "0"
        ],
        [
         "MntFishProducts",
         "0"
        ],
        [
         "MntSweetProducts",
         "0"
        ],
        [
         "MntGoldProds",
         "0"
        ],
        [
         "NumDealsPurchases",
         "0"
        ],
        [
         "NumWebPurchases",
         "0"
        ],
        [
         "NumCatalogPurchases",
         "0"
        ],
        [
         "NumStorePurchases",
         "0"
        ],
        [
         "NumWebVisitsMonth",
         "0"
        ],
        [
         "AcceptedCmp3",
         "0"
        ],
        [
         "AcceptedCmp4",
         "0"
        ],
        [
         "AcceptedCmp5",
         "0"
        ],
        [
         "AcceptedCmp1",
         "0"
        ],
        [
         "AcceptedCmp2",
         "0"
        ],
        [
         "Complain",
         "0"
        ],
        [
         "Z_CostContact",
         "0"
        ],
        [
         "Z_Revenue",
         "0"
        ],
        [
         "Response",
         "0"
        ]
       ],
       "shape": {
        "columns": 1,
        "rows": 29
       }
      },
      "text/plain": [
       "ID                0\n",
       "Year_Birth        0\n",
       "Education         0\n",
       "Marital_Status    0\n",
       "Income            0\n",
       "                 ..\n",
       "AcceptedCmp2      0\n",
       "Complain          0\n",
       "Z_CostContact     0\n",
       "Z_Revenue         0\n",
       "Response          0\n",
       "Length: 29, dtype: int64"
      ]
     },
     "execution_count": 8,
     "metadata": {},
     "output_type": "execute_result"
    }
   ],
   "source": [
    "# drop rows na values in Income column\n",
    "df = df.dropna(subset=['Income'])\n",
    "df.isnull().sum()"
   ]
  },
  {
   "cell_type": "code",
   "execution_count": 9,
   "id": "80ba58d9",
   "metadata": {},
   "outputs": [
    {
     "name": "stdout",
     "output_type": "stream",
     "text": [
      "\n",
      " Values count for Education: Education\n",
      "Graduation    1116\n",
      "PhD            481\n",
      "Master         365\n",
      "2n Cycle       200\n",
      "Basic           54\n",
      "Name: count, dtype: int64\n",
      "-------------------------\n",
      "\n",
      " Values count for Marital_Status: Marital_Status\n",
      "Married     857\n",
      "Together    573\n",
      "Single      471\n",
      "Divorced    232\n",
      "Widow        76\n",
      "Alone         3\n",
      "Absurd        2\n",
      "YOLO          2\n",
      "Name: count, dtype: int64\n",
      "-------------------------\n",
      "\n",
      " Values count for Dt_Customer: Dt_Customer\n",
      "31-08-2012    12\n",
      "12-09-2012    11\n",
      "14-02-2013    11\n",
      "12-05-2014    11\n",
      "20-08-2013    10\n",
      "              ..\n",
      "05-08-2012     1\n",
      "18-11-2012     1\n",
      "09-05-2014     1\n",
      "26-06-2013     1\n",
      "09-01-2014     1\n",
      "Name: count, Length: 662, dtype: int64\n",
      "-------------------------\n"
     ]
    }
   ],
   "source": [
    "#checking for categorial columns\n",
    "cat_cols = df.select_dtypes(include=['object']).columns\n",
    "for cat in cat_cols:\n",
    "    print(f\"\\n Values count for {cat}: {df[cat].value_counts()}\")\n",
    "    print(\"-\"*25)"
   ]
  },
  {
   "cell_type": "code",
   "execution_count": 10,
   "id": "91c2e1f7",
   "metadata": {},
   "outputs": [],
   "source": [
    "# convert the Dt_Customer column to datetime format\n",
    "df['Dt_Customer'] = pd.to_datetime(df['Dt_Customer'], format='%d-%m-%Y')\n",
    "df['Year'] = df['Dt_Customer'].dt.year\n"
   ]
  },
  {
   "cell_type": "code",
   "execution_count": 11,
   "id": "71f340f6",
   "metadata": {},
   "outputs": [
    {
     "name": "stdout",
     "output_type": "stream",
     "text": [
      "Max date in dataset: 2014-06-29 00:00:00\n",
      "Min date in dataset: 2012-07-30 00:00:00\n"
     ]
    }
   ],
   "source": [
    "print ('Max date in dataset:', df['Dt_Customer'].max())\n",
    "print ('Min date in dataset:', df['Dt_Customer'].min())"
   ]
  },
  {
   "cell_type": "markdown",
   "id": "38d5f093",
   "metadata": {},
   "source": [
    "## **3. Feature engineering**"
   ]
  },
  {
   "cell_type": "code",
   "execution_count": 12,
   "id": "d84d0491",
   "metadata": {},
   "outputs": [
    {
     "data": {
      "text/plain": [
       "Index(['ID', 'Year_Birth', 'Education', 'Marital_Status', 'Income', 'Kidhome',\n",
       "       'Teenhome', 'Dt_Customer', 'Recency', 'MntWines', 'MntFruits',\n",
       "       'MntMeatProducts', 'MntFishProducts', 'MntSweetProducts',\n",
       "       'MntGoldProds', 'NumDealsPurchases', 'NumWebPurchases',\n",
       "       'NumCatalogPurchases', 'NumStorePurchases', 'NumWebVisitsMonth',\n",
       "       'AcceptedCmp3', 'AcceptedCmp4', 'AcceptedCmp5', 'AcceptedCmp1',\n",
       "       'AcceptedCmp2', 'Complain', 'Z_CostContact', 'Z_Revenue', 'Response',\n",
       "       'Year'],\n",
       "      dtype='object')"
      ]
     },
     "execution_count": 12,
     "metadata": {},
     "output_type": "execute_result"
    }
   ],
   "source": [
    "df.columns"
   ]
  },
  {
   "cell_type": "markdown",
   "id": "6edbfedd",
   "metadata": {},
   "source": [
    "=> I will create new features based on existing columns:\n",
    "\n",
    "- Total_Spent = Sum of ['MntWines', 'MntFruits', 'MntMeatProducts', 'MntFishProducts', 'MntSweetProducts', 'MntGoldProds']\n",
    "- Total_Purchases = Sum of['NumWebPurchases', 'NumCatalogPurchases','NumStorePurchases', 'NumDealsPurchases']\n",
    "- Living_Situation = alone / not_alone\n",
    "- Education_Level = undergraduate / graduate / postgraduate\n",
    "- Total_Children = Sum of ['Kidhome', 'Teenhome']\n",
    "- Is_Parent = IF Total_Children > 0, Yes (1) ELSE No (0)\n",
    "- Age = 2025 - Year_Birth\n",
    "- Web_Ratio = ['NumWebPurchases'] / ['Total_Purchases']\n",
    "- Store_Ratio = ['NumStorePurchases'] /['Total_Purchases']\n",
    "- Deal_Ratio' = ['NumDealsPurchases'] / ['Total_Purchases']"
   ]
  },
  {
   "cell_type": "code",
   "execution_count": 13,
   "id": "3257abb0",
   "metadata": {},
   "outputs": [],
   "source": [
    "# Calculate customer tenure\n",
    "df['Dt_Customer'] = pd.to_datetime(df['Dt_Customer'])\n",
    "latest_date = df['Dt_Customer'].max()\n",
    "df['Tenure'] = (latest_date - df['Dt_Customer']).dt.days"
   ]
  },
  {
   "cell_type": "code",
   "execution_count": 14,
   "id": "bc7298e2",
   "metadata": {},
   "outputs": [],
   "source": [
    "# Calculate Customer's Active Days until 2024-01-10\n",
    "\n",
    "## Declare today's date\n",
    "today_date_str = '2025-08-05'\n",
    "today_date = pd.to_datetime(today_date_str, format= '%Y-%m-%d')\n",
    "\n",
    "## Calculate 'Customer_Active_Days' \n",
    "df['Customer_Active_Days'] = (today_date - df['Dt_Customer']).dt.days"
   ]
  },
  {
   "cell_type": "code",
   "execution_count": 15,
   "id": "1ec64f1e",
   "metadata": {},
   "outputs": [],
   "source": [
    "# Create new features\n",
    "df['Total_Spent'] = df[['MntWines', 'MntFruits', 'MntMeatProducts', \n",
    "                                         'MntFishProducts', 'MntSweetProducts', 'MntGoldProds']].sum(axis=1)\n",
    "\n",
    "df['Total_Purchases'] = df[['NumWebPurchases', 'NumCatalogPurchases', \n",
    "                                             'NumStorePurchases', 'NumDealsPurchases']].sum(axis=1)"
   ]
  },
  {
   "cell_type": "code",
   "execution_count": 16,
   "id": "cc15389f",
   "metadata": {},
   "outputs": [],
   "source": [
    "# Calculate channel preferences\n",
    "df['Web_Ratio'] = df['NumWebPurchases'] / df['Total_Purchases'].replace(0, np.nan)\n",
    "df['Store_Ratio'] = df['NumStorePurchases'] / df['Total_Purchases'].replace(0, np.nan)\n",
    "df['Deal_Ratio'] = df['NumDealsPurchases'] / df['Total_Purchases'].replace(0, np.nan)"
   ]
  },
  {
   "cell_type": "code",
   "execution_count": 17,
   "id": "77ebdda7",
   "metadata": {},
   "outputs": [],
   "source": [
    " #Living_Situation = alone / not_alone\n",
    "df['Living_Situation'] = np.where(df['Marital_Status'].isin(['Single', 'Divorced', 'Widow', 'Alone', 'YOLO']), \n",
    "                                          'alone', 'not_alone')"
   ]
  },
  {
   "cell_type": "code",
   "execution_count": 18,
   "id": "a21fd2fc",
   "metadata": {},
   "outputs": [],
   "source": [
    "# Education_Level = undergraduate / graduate / postgraduate\n",
    "def map_education(edu):\n",
    "    if edu in ['Basic', '2n Cycle']:\n",
    "        return 'undergraduate'\n",
    "    elif edu in ['Graduation']:\n",
    "        return 'graduate'\n",
    "    elif edu in ['Master', 'PhD']:\n",
    "        return 'postgraduate'\n",
    "    else:\n",
    "        return 'unknown'\n"
   ]
  },
  {
   "cell_type": "code",
   "execution_count": 19,
   "id": "6a9ca29b",
   "metadata": {},
   "outputs": [],
   "source": [
    "df['Education_Level'] = df['Education'].apply(map_education)\n"
   ]
  },
  {
   "cell_type": "code",
   "execution_count": 20,
   "id": "2e913748",
   "metadata": {},
   "outputs": [
    {
     "data": {
      "application/vnd.microsoft.datawrangler.viewer.v0+json": {
       "columns": [
        {
         "name": "index",
         "rawType": "int64",
         "type": "integer"
        },
        {
         "name": "ID",
         "rawType": "int64",
         "type": "integer"
        },
        {
         "name": "Year_Birth",
         "rawType": "int64",
         "type": "integer"
        },
        {
         "name": "Education",
         "rawType": "object",
         "type": "string"
        },
        {
         "name": "Marital_Status",
         "rawType": "object",
         "type": "string"
        },
        {
         "name": "Income",
         "rawType": "float64",
         "type": "float"
        },
        {
         "name": "Kidhome",
         "rawType": "int64",
         "type": "integer"
        },
        {
         "name": "Teenhome",
         "rawType": "int64",
         "type": "integer"
        },
        {
         "name": "Dt_Customer",
         "rawType": "datetime64[ns]",
         "type": "datetime"
        },
        {
         "name": "Recency",
         "rawType": "int64",
         "type": "integer"
        },
        {
         "name": "MntWines",
         "rawType": "int64",
         "type": "integer"
        },
        {
         "name": "MntFruits",
         "rawType": "int64",
         "type": "integer"
        },
        {
         "name": "MntMeatProducts",
         "rawType": "int64",
         "type": "integer"
        },
        {
         "name": "MntFishProducts",
         "rawType": "int64",
         "type": "integer"
        },
        {
         "name": "MntSweetProducts",
         "rawType": "int64",
         "type": "integer"
        },
        {
         "name": "MntGoldProds",
         "rawType": "int64",
         "type": "integer"
        },
        {
         "name": "NumDealsPurchases",
         "rawType": "int64",
         "type": "integer"
        },
        {
         "name": "NumWebPurchases",
         "rawType": "int64",
         "type": "integer"
        },
        {
         "name": "NumCatalogPurchases",
         "rawType": "int64",
         "type": "integer"
        },
        {
         "name": "NumStorePurchases",
         "rawType": "int64",
         "type": "integer"
        },
        {
         "name": "NumWebVisitsMonth",
         "rawType": "int64",
         "type": "integer"
        },
        {
         "name": "AcceptedCmp3",
         "rawType": "int64",
         "type": "integer"
        },
        {
         "name": "AcceptedCmp4",
         "rawType": "int64",
         "type": "integer"
        },
        {
         "name": "AcceptedCmp5",
         "rawType": "int64",
         "type": "integer"
        },
        {
         "name": "AcceptedCmp1",
         "rawType": "int64",
         "type": "integer"
        },
        {
         "name": "AcceptedCmp2",
         "rawType": "int64",
         "type": "integer"
        },
        {
         "name": "Complain",
         "rawType": "int64",
         "type": "integer"
        },
        {
         "name": "Z_CostContact",
         "rawType": "int64",
         "type": "integer"
        },
        {
         "name": "Z_Revenue",
         "rawType": "int64",
         "type": "integer"
        },
        {
         "name": "Response",
         "rawType": "int64",
         "type": "integer"
        },
        {
         "name": "Year",
         "rawType": "int32",
         "type": "integer"
        },
        {
         "name": "Tenure",
         "rawType": "int64",
         "type": "integer"
        },
        {
         "name": "Customer_Active_Days",
         "rawType": "int64",
         "type": "integer"
        },
        {
         "name": "Total_Spent",
         "rawType": "int64",
         "type": "integer"
        },
        {
         "name": "Total_Purchases",
         "rawType": "int64",
         "type": "integer"
        },
        {
         "name": "Web_Ratio",
         "rawType": "float64",
         "type": "float"
        },
        {
         "name": "Store_Ratio",
         "rawType": "float64",
         "type": "float"
        },
        {
         "name": "Deal_Ratio",
         "rawType": "float64",
         "type": "float"
        },
        {
         "name": "Living_Situation",
         "rawType": "object",
         "type": "string"
        },
        {
         "name": "Education_Level",
         "rawType": "object",
         "type": "string"
        }
       ],
       "ref": "6d73fe4e-e507-4dc7-ba6d-1f95c340f627",
       "rows": [
        [
         "0",
         "5524",
         "1957",
         "Graduation",
         "Single",
         "58138.0",
         "0",
         "0",
         "2012-09-04 00:00:00",
         "58",
         "635",
         "88",
         "546",
         "172",
         "88",
         "88",
         "3",
         "8",
         "10",
         "4",
         "7",
         "0",
         "0",
         "0",
         "0",
         "0",
         "0",
         "3",
         "11",
         "1",
         "2012",
         "663",
         "4718",
         "1617",
         "25",
         "0.32",
         "0.16",
         "0.12",
         "alone",
         "graduate"
        ],
        [
         "1",
         "2174",
         "1954",
         "Graduation",
         "Single",
         "46344.0",
         "1",
         "1",
         "2014-03-08 00:00:00",
         "38",
         "11",
         "1",
         "6",
         "2",
         "1",
         "6",
         "2",
         "1",
         "1",
         "2",
         "5",
         "0",
         "0",
         "0",
         "0",
         "0",
         "0",
         "3",
         "11",
         "0",
         "2014",
         "113",
         "4168",
         "27",
         "6",
         "0.16666666666666666",
         "0.3333333333333333",
         "0.3333333333333333",
         "alone",
         "graduate"
        ],
        [
         "2",
         "4141",
         "1965",
         "Graduation",
         "Together",
         "71613.0",
         "0",
         "0",
         "2013-08-21 00:00:00",
         "26",
         "426",
         "49",
         "127",
         "111",
         "21",
         "42",
         "1",
         "8",
         "2",
         "10",
         "4",
         "0",
         "0",
         "0",
         "0",
         "0",
         "0",
         "3",
         "11",
         "0",
         "2013",
         "312",
         "4367",
         "776",
         "21",
         "0.38095238095238093",
         "0.47619047619047616",
         "0.047619047619047616",
         "not_alone",
         "graduate"
        ],
        [
         "3",
         "6182",
         "1984",
         "Graduation",
         "Together",
         "26646.0",
         "1",
         "0",
         "2014-02-10 00:00:00",
         "26",
         "11",
         "4",
         "20",
         "10",
         "3",
         "5",
         "2",
         "2",
         "0",
         "4",
         "6",
         "0",
         "0",
         "0",
         "0",
         "0",
         "0",
         "3",
         "11",
         "0",
         "2014",
         "139",
         "4194",
         "53",
         "8",
         "0.25",
         "0.5",
         "0.25",
         "not_alone",
         "graduate"
        ],
        [
         "4",
         "5324",
         "1981",
         "PhD",
         "Married",
         "58293.0",
         "1",
         "0",
         "2014-01-19 00:00:00",
         "94",
         "173",
         "43",
         "118",
         "46",
         "27",
         "15",
         "5",
         "5",
         "3",
         "6",
         "5",
         "0",
         "0",
         "0",
         "0",
         "0",
         "0",
         "3",
         "11",
         "0",
         "2014",
         "161",
         "4216",
         "422",
         "19",
         "0.2631578947368421",
         "0.3157894736842105",
         "0.2631578947368421",
         "not_alone",
         "postgraduate"
        ]
       ],
       "shape": {
        "columns": 39,
        "rows": 5
       }
      },
      "text/html": [
       "<div>\n",
       "<style scoped>\n",
       "    .dataframe tbody tr th:only-of-type {\n",
       "        vertical-align: middle;\n",
       "    }\n",
       "\n",
       "    .dataframe tbody tr th {\n",
       "        vertical-align: top;\n",
       "    }\n",
       "\n",
       "    .dataframe thead th {\n",
       "        text-align: right;\n",
       "    }\n",
       "</style>\n",
       "<table border=\"1\" class=\"dataframe\">\n",
       "  <thead>\n",
       "    <tr style=\"text-align: right;\">\n",
       "      <th></th>\n",
       "      <th>ID</th>\n",
       "      <th>Year_Birth</th>\n",
       "      <th>Education</th>\n",
       "      <th>Marital_Status</th>\n",
       "      <th>Income</th>\n",
       "      <th>Kidhome</th>\n",
       "      <th>Teenhome</th>\n",
       "      <th>Dt_Customer</th>\n",
       "      <th>Recency</th>\n",
       "      <th>MntWines</th>\n",
       "      <th>MntFruits</th>\n",
       "      <th>MntMeatProducts</th>\n",
       "      <th>MntFishProducts</th>\n",
       "      <th>MntSweetProducts</th>\n",
       "      <th>MntGoldProds</th>\n",
       "      <th>NumDealsPurchases</th>\n",
       "      <th>NumWebPurchases</th>\n",
       "      <th>NumCatalogPurchases</th>\n",
       "      <th>NumStorePurchases</th>\n",
       "      <th>NumWebVisitsMonth</th>\n",
       "      <th>AcceptedCmp3</th>\n",
       "      <th>AcceptedCmp4</th>\n",
       "      <th>AcceptedCmp5</th>\n",
       "      <th>AcceptedCmp1</th>\n",
       "      <th>AcceptedCmp2</th>\n",
       "      <th>Complain</th>\n",
       "      <th>Z_CostContact</th>\n",
       "      <th>Z_Revenue</th>\n",
       "      <th>Response</th>\n",
       "      <th>Year</th>\n",
       "      <th>Tenure</th>\n",
       "      <th>Customer_Active_Days</th>\n",
       "      <th>Total_Spent</th>\n",
       "      <th>Total_Purchases</th>\n",
       "      <th>Web_Ratio</th>\n",
       "      <th>Store_Ratio</th>\n",
       "      <th>Deal_Ratio</th>\n",
       "      <th>Living_Situation</th>\n",
       "      <th>Education_Level</th>\n",
       "    </tr>\n",
       "  </thead>\n",
       "  <tbody>\n",
       "    <tr>\n",
       "      <th>0</th>\n",
       "      <td>5524</td>\n",
       "      <td>1957</td>\n",
       "      <td>Graduation</td>\n",
       "      <td>Single</td>\n",
       "      <td>58138.0</td>\n",
       "      <td>0</td>\n",
       "      <td>0</td>\n",
       "      <td>2012-09-04</td>\n",
       "      <td>58</td>\n",
       "      <td>635</td>\n",
       "      <td>88</td>\n",
       "      <td>546</td>\n",
       "      <td>172</td>\n",
       "      <td>88</td>\n",
       "      <td>88</td>\n",
       "      <td>3</td>\n",
       "      <td>8</td>\n",
       "      <td>10</td>\n",
       "      <td>4</td>\n",
       "      <td>7</td>\n",
       "      <td>0</td>\n",
       "      <td>0</td>\n",
       "      <td>0</td>\n",
       "      <td>0</td>\n",
       "      <td>0</td>\n",
       "      <td>0</td>\n",
       "      <td>3</td>\n",
       "      <td>11</td>\n",
       "      <td>1</td>\n",
       "      <td>2012</td>\n",
       "      <td>663</td>\n",
       "      <td>4718</td>\n",
       "      <td>1617</td>\n",
       "      <td>25</td>\n",
       "      <td>0.320000</td>\n",
       "      <td>0.160000</td>\n",
       "      <td>0.120000</td>\n",
       "      <td>alone</td>\n",
       "      <td>graduate</td>\n",
       "    </tr>\n",
       "    <tr>\n",
       "      <th>1</th>\n",
       "      <td>2174</td>\n",
       "      <td>1954</td>\n",
       "      <td>Graduation</td>\n",
       "      <td>Single</td>\n",
       "      <td>46344.0</td>\n",
       "      <td>1</td>\n",
       "      <td>1</td>\n",
       "      <td>2014-03-08</td>\n",
       "      <td>38</td>\n",
       "      <td>11</td>\n",
       "      <td>1</td>\n",
       "      <td>6</td>\n",
       "      <td>2</td>\n",
       "      <td>1</td>\n",
       "      <td>6</td>\n",
       "      <td>2</td>\n",
       "      <td>1</td>\n",
       "      <td>1</td>\n",
       "      <td>2</td>\n",
       "      <td>5</td>\n",
       "      <td>0</td>\n",
       "      <td>0</td>\n",
       "      <td>0</td>\n",
       "      <td>0</td>\n",
       "      <td>0</td>\n",
       "      <td>0</td>\n",
       "      <td>3</td>\n",
       "      <td>11</td>\n",
       "      <td>0</td>\n",
       "      <td>2014</td>\n",
       "      <td>113</td>\n",
       "      <td>4168</td>\n",
       "      <td>27</td>\n",
       "      <td>6</td>\n",
       "      <td>0.166667</td>\n",
       "      <td>0.333333</td>\n",
       "      <td>0.333333</td>\n",
       "      <td>alone</td>\n",
       "      <td>graduate</td>\n",
       "    </tr>\n",
       "    <tr>\n",
       "      <th>2</th>\n",
       "      <td>4141</td>\n",
       "      <td>1965</td>\n",
       "      <td>Graduation</td>\n",
       "      <td>Together</td>\n",
       "      <td>71613.0</td>\n",
       "      <td>0</td>\n",
       "      <td>0</td>\n",
       "      <td>2013-08-21</td>\n",
       "      <td>26</td>\n",
       "      <td>426</td>\n",
       "      <td>49</td>\n",
       "      <td>127</td>\n",
       "      <td>111</td>\n",
       "      <td>21</td>\n",
       "      <td>42</td>\n",
       "      <td>1</td>\n",
       "      <td>8</td>\n",
       "      <td>2</td>\n",
       "      <td>10</td>\n",
       "      <td>4</td>\n",
       "      <td>0</td>\n",
       "      <td>0</td>\n",
       "      <td>0</td>\n",
       "      <td>0</td>\n",
       "      <td>0</td>\n",
       "      <td>0</td>\n",
       "      <td>3</td>\n",
       "      <td>11</td>\n",
       "      <td>0</td>\n",
       "      <td>2013</td>\n",
       "      <td>312</td>\n",
       "      <td>4367</td>\n",
       "      <td>776</td>\n",
       "      <td>21</td>\n",
       "      <td>0.380952</td>\n",
       "      <td>0.476190</td>\n",
       "      <td>0.047619</td>\n",
       "      <td>not_alone</td>\n",
       "      <td>graduate</td>\n",
       "    </tr>\n",
       "    <tr>\n",
       "      <th>3</th>\n",
       "      <td>6182</td>\n",
       "      <td>1984</td>\n",
       "      <td>Graduation</td>\n",
       "      <td>Together</td>\n",
       "      <td>26646.0</td>\n",
       "      <td>1</td>\n",
       "      <td>0</td>\n",
       "      <td>2014-02-10</td>\n",
       "      <td>26</td>\n",
       "      <td>11</td>\n",
       "      <td>4</td>\n",
       "      <td>20</td>\n",
       "      <td>10</td>\n",
       "      <td>3</td>\n",
       "      <td>5</td>\n",
       "      <td>2</td>\n",
       "      <td>2</td>\n",
       "      <td>0</td>\n",
       "      <td>4</td>\n",
       "      <td>6</td>\n",
       "      <td>0</td>\n",
       "      <td>0</td>\n",
       "      <td>0</td>\n",
       "      <td>0</td>\n",
       "      <td>0</td>\n",
       "      <td>0</td>\n",
       "      <td>3</td>\n",
       "      <td>11</td>\n",
       "      <td>0</td>\n",
       "      <td>2014</td>\n",
       "      <td>139</td>\n",
       "      <td>4194</td>\n",
       "      <td>53</td>\n",
       "      <td>8</td>\n",
       "      <td>0.250000</td>\n",
       "      <td>0.500000</td>\n",
       "      <td>0.250000</td>\n",
       "      <td>not_alone</td>\n",
       "      <td>graduate</td>\n",
       "    </tr>\n",
       "    <tr>\n",
       "      <th>4</th>\n",
       "      <td>5324</td>\n",
       "      <td>1981</td>\n",
       "      <td>PhD</td>\n",
       "      <td>Married</td>\n",
       "      <td>58293.0</td>\n",
       "      <td>1</td>\n",
       "      <td>0</td>\n",
       "      <td>2014-01-19</td>\n",
       "      <td>94</td>\n",
       "      <td>173</td>\n",
       "      <td>43</td>\n",
       "      <td>118</td>\n",
       "      <td>46</td>\n",
       "      <td>27</td>\n",
       "      <td>15</td>\n",
       "      <td>5</td>\n",
       "      <td>5</td>\n",
       "      <td>3</td>\n",
       "      <td>6</td>\n",
       "      <td>5</td>\n",
       "      <td>0</td>\n",
       "      <td>0</td>\n",
       "      <td>0</td>\n",
       "      <td>0</td>\n",
       "      <td>0</td>\n",
       "      <td>0</td>\n",
       "      <td>3</td>\n",
       "      <td>11</td>\n",
       "      <td>0</td>\n",
       "      <td>2014</td>\n",
       "      <td>161</td>\n",
       "      <td>4216</td>\n",
       "      <td>422</td>\n",
       "      <td>19</td>\n",
       "      <td>0.263158</td>\n",
       "      <td>0.315789</td>\n",
       "      <td>0.263158</td>\n",
       "      <td>not_alone</td>\n",
       "      <td>postgraduate</td>\n",
       "    </tr>\n",
       "  </tbody>\n",
       "</table>\n",
       "</div>"
      ],
      "text/plain": [
       "     ID  Year_Birth   Education Marital_Status   Income  Kidhome  Teenhome  \\\n",
       "0  5524        1957  Graduation         Single  58138.0        0         0   \n",
       "1  2174        1954  Graduation         Single  46344.0        1         1   \n",
       "2  4141        1965  Graduation       Together  71613.0        0         0   \n",
       "3  6182        1984  Graduation       Together  26646.0        1         0   \n",
       "4  5324        1981         PhD        Married  58293.0        1         0   \n",
       "\n",
       "  Dt_Customer  Recency  MntWines  MntFruits  MntMeatProducts  MntFishProducts  \\\n",
       "0  2012-09-04       58       635         88              546              172   \n",
       "1  2014-03-08       38        11          1                6                2   \n",
       "2  2013-08-21       26       426         49              127              111   \n",
       "3  2014-02-10       26        11          4               20               10   \n",
       "4  2014-01-19       94       173         43              118               46   \n",
       "\n",
       "   MntSweetProducts  MntGoldProds  NumDealsPurchases  NumWebPurchases  \\\n",
       "0                88            88                  3                8   \n",
       "1                 1             6                  2                1   \n",
       "2                21            42                  1                8   \n",
       "3                 3             5                  2                2   \n",
       "4                27            15                  5                5   \n",
       "\n",
       "   NumCatalogPurchases  NumStorePurchases  NumWebVisitsMonth  AcceptedCmp3  \\\n",
       "0                   10                  4                  7             0   \n",
       "1                    1                  2                  5             0   \n",
       "2                    2                 10                  4             0   \n",
       "3                    0                  4                  6             0   \n",
       "4                    3                  6                  5             0   \n",
       "\n",
       "   AcceptedCmp4  AcceptedCmp5  AcceptedCmp1  AcceptedCmp2  Complain  \\\n",
       "0             0             0             0             0         0   \n",
       "1             0             0             0             0         0   \n",
       "2             0             0             0             0         0   \n",
       "3             0             0             0             0         0   \n",
       "4             0             0             0             0         0   \n",
       "\n",
       "   Z_CostContact  Z_Revenue  Response  Year  Tenure  Customer_Active_Days  \\\n",
       "0              3         11         1  2012     663                  4718   \n",
       "1              3         11         0  2014     113                  4168   \n",
       "2              3         11         0  2013     312                  4367   \n",
       "3              3         11         0  2014     139                  4194   \n",
       "4              3         11         0  2014     161                  4216   \n",
       "\n",
       "   Total_Spent  Total_Purchases  Web_Ratio  Store_Ratio  Deal_Ratio  \\\n",
       "0         1617               25   0.320000     0.160000    0.120000   \n",
       "1           27                6   0.166667     0.333333    0.333333   \n",
       "2          776               21   0.380952     0.476190    0.047619   \n",
       "3           53                8   0.250000     0.500000    0.250000   \n",
       "4          422               19   0.263158     0.315789    0.263158   \n",
       "\n",
       "  Living_Situation Education_Level  \n",
       "0            alone        graduate  \n",
       "1            alone        graduate  \n",
       "2        not_alone        graduate  \n",
       "3        not_alone        graduate  \n",
       "4        not_alone    postgraduate  "
      ]
     },
     "execution_count": 20,
     "metadata": {},
     "output_type": "execute_result"
    }
   ],
   "source": [
    "df.head()"
   ]
  },
  {
   "cell_type": "code",
   "execution_count": 21,
   "id": "45328208",
   "metadata": {},
   "outputs": [],
   "source": [
    "# Total_Children = Sum of ['Kidhome', 'Teenhome']\n",
    "df['Total_Children'] = df['Kidhome'] + df['Teenhome']\n",
    "\n",
    "# Is_Parent = IF Total_Children > 0, Yes (1) ELSE No (0)\n",
    "df['Is_Parent'] = np.where(df['Total_Children'] > 0, 1, 0)\n",
    "\n",
    "# Age = 2025 - Year_Birth\n",
    "df['Age'] = 2025 - df['Year_Birth']"
   ]
  },
  {
   "cell_type": "code",
   "execution_count": 22,
   "id": "781a2540",
   "metadata": {},
   "outputs": [],
   "source": [
    "# Handle infinite values\n",
    "df = df.replace([np.inf, -np.inf], np.nan)\n"
   ]
  },
  {
   "cell_type": "code",
   "execution_count": 23,
   "id": "06709650",
   "metadata": {},
   "outputs": [],
   "source": [
    "# One-hot encode categorical variables\n",
    "df = pd.get_dummies(df, columns=['Living_Situation', 'Education_Level'], drop_first=True)"
   ]
  },
  {
   "cell_type": "code",
   "execution_count": 24,
   "id": "7d218d6d",
   "metadata": {},
   "outputs": [
    {
     "name": "stdout",
     "output_type": "stream",
     "text": [
      "['ID', 'Year_Birth', 'Education', 'Marital_Status', 'Income', 'Kidhome', 'Teenhome', 'Dt_Customer', 'Recency', 'MntWines', 'MntFruits', 'MntMeatProducts', 'MntFishProducts', 'MntSweetProducts', 'MntGoldProds', 'NumDealsPurchases', 'NumWebPurchases', 'NumCatalogPurchases', 'NumStorePurchases', 'NumWebVisitsMonth', 'AcceptedCmp3', 'AcceptedCmp4', 'AcceptedCmp5', 'AcceptedCmp1', 'AcceptedCmp2', 'Complain', 'Z_CostContact', 'Z_Revenue', 'Response', 'Year', 'Tenure', 'Customer_Active_Days', 'Total_Spent', 'Total_Purchases', 'Web_Ratio', 'Store_Ratio', 'Deal_Ratio', 'Total_Children', 'Is_Parent', 'Age', 'Living_Situation_not_alone', 'Education_Level_postgraduate', 'Education_Level_undergraduate']\n"
     ]
    }
   ],
   "source": [
    "print(df.columns.tolist())\n"
   ]
  },
  {
   "cell_type": "code",
   "execution_count": 25,
   "id": "790eece5",
   "metadata": {},
   "outputs": [],
   "source": [
    "# Select features for clustering\n",
    "features = ['Income', 'Age', 'Total_Spent', 'Total_Purchases', 'Tenure', \n",
    "            'Web_Ratio', 'Store_Ratio', 'Deal_Ratio', 'Is_Parent', 'Total_Children',\n",
    "            'Living_Situation_not_alone', 'Education_Level_graduate', \n",
    "            'Education_Level_postgraduate', 'Education_Level_undergraduate']"
   ]
  },
  {
   "cell_type": "code",
   "execution_count": 27,
   "id": "a8210242",
   "metadata": {},
   "outputs": [
    {
     "ename": "KeyError",
     "evalue": "\"['Education_Level_graduate'] not in index\"",
     "output_type": "error",
     "traceback": [
      "\u001b[1;31m---------------------------------------------------------------------------\u001b[0m",
      "\u001b[1;31mKeyError\u001b[0m                                  Traceback (most recent call last)",
      "Cell \u001b[1;32mIn[27], line 1\u001b[0m\n\u001b[1;32m----> 1\u001b[0m cluster_data \u001b[38;5;241m=\u001b[39m df[features]\u001b[38;5;241m.\u001b[39mcopy()\n",
      "File \u001b[1;32md:\\set\\Lib\\site-packages\\pandas\\core\\frame.py:4108\u001b[0m, in \u001b[0;36mDataFrame.__getitem__\u001b[1;34m(self, key)\u001b[0m\n\u001b[0;32m   4106\u001b[0m     \u001b[38;5;28;01mif\u001b[39;00m is_iterator(key):\n\u001b[0;32m   4107\u001b[0m         key \u001b[38;5;241m=\u001b[39m \u001b[38;5;28mlist\u001b[39m(key)\n\u001b[1;32m-> 4108\u001b[0m     indexer \u001b[38;5;241m=\u001b[39m \u001b[38;5;28mself\u001b[39m\u001b[38;5;241m.\u001b[39mcolumns\u001b[38;5;241m.\u001b[39m_get_indexer_strict(key, \u001b[38;5;124m\"\u001b[39m\u001b[38;5;124mcolumns\u001b[39m\u001b[38;5;124m\"\u001b[39m)[\u001b[38;5;241m1\u001b[39m]\n\u001b[0;32m   4110\u001b[0m \u001b[38;5;66;03m# take() does not accept boolean indexers\u001b[39;00m\n\u001b[0;32m   4111\u001b[0m \u001b[38;5;28;01mif\u001b[39;00m \u001b[38;5;28mgetattr\u001b[39m(indexer, \u001b[38;5;124m\"\u001b[39m\u001b[38;5;124mdtype\u001b[39m\u001b[38;5;124m\"\u001b[39m, \u001b[38;5;28;01mNone\u001b[39;00m) \u001b[38;5;241m==\u001b[39m \u001b[38;5;28mbool\u001b[39m:\n",
      "File \u001b[1;32md:\\set\\Lib\\site-packages\\pandas\\core\\indexes\\base.py:6200\u001b[0m, in \u001b[0;36mIndex._get_indexer_strict\u001b[1;34m(self, key, axis_name)\u001b[0m\n\u001b[0;32m   6197\u001b[0m \u001b[38;5;28;01melse\u001b[39;00m:\n\u001b[0;32m   6198\u001b[0m     keyarr, indexer, new_indexer \u001b[38;5;241m=\u001b[39m \u001b[38;5;28mself\u001b[39m\u001b[38;5;241m.\u001b[39m_reindex_non_unique(keyarr)\n\u001b[1;32m-> 6200\u001b[0m \u001b[38;5;28mself\u001b[39m\u001b[38;5;241m.\u001b[39m_raise_if_missing(keyarr, indexer, axis_name)\n\u001b[0;32m   6202\u001b[0m keyarr \u001b[38;5;241m=\u001b[39m \u001b[38;5;28mself\u001b[39m\u001b[38;5;241m.\u001b[39mtake(indexer)\n\u001b[0;32m   6203\u001b[0m \u001b[38;5;28;01mif\u001b[39;00m \u001b[38;5;28misinstance\u001b[39m(key, Index):\n\u001b[0;32m   6204\u001b[0m     \u001b[38;5;66;03m# GH 42790 - Preserve name from an Index\u001b[39;00m\n",
      "File \u001b[1;32md:\\set\\Lib\\site-packages\\pandas\\core\\indexes\\base.py:6252\u001b[0m, in \u001b[0;36mIndex._raise_if_missing\u001b[1;34m(self, key, indexer, axis_name)\u001b[0m\n\u001b[0;32m   6249\u001b[0m     \u001b[38;5;28;01mraise\u001b[39;00m \u001b[38;5;167;01mKeyError\u001b[39;00m(\u001b[38;5;124mf\u001b[39m\u001b[38;5;124m\"\u001b[39m\u001b[38;5;124mNone of [\u001b[39m\u001b[38;5;132;01m{\u001b[39;00mkey\u001b[38;5;132;01m}\u001b[39;00m\u001b[38;5;124m] are in the [\u001b[39m\u001b[38;5;132;01m{\u001b[39;00maxis_name\u001b[38;5;132;01m}\u001b[39;00m\u001b[38;5;124m]\u001b[39m\u001b[38;5;124m\"\u001b[39m)\n\u001b[0;32m   6251\u001b[0m not_found \u001b[38;5;241m=\u001b[39m \u001b[38;5;28mlist\u001b[39m(ensure_index(key)[missing_mask\u001b[38;5;241m.\u001b[39mnonzero()[\u001b[38;5;241m0\u001b[39m]]\u001b[38;5;241m.\u001b[39munique())\n\u001b[1;32m-> 6252\u001b[0m \u001b[38;5;28;01mraise\u001b[39;00m \u001b[38;5;167;01mKeyError\u001b[39;00m(\u001b[38;5;124mf\u001b[39m\u001b[38;5;124m\"\u001b[39m\u001b[38;5;132;01m{\u001b[39;00mnot_found\u001b[38;5;132;01m}\u001b[39;00m\u001b[38;5;124m not in index\u001b[39m\u001b[38;5;124m\"\u001b[39m)\n",
      "\u001b[1;31mKeyError\u001b[0m: \"['Education_Level_graduate'] not in index\""
     ]
    }
   ],
   "source": [
    "cluster_data = df[features].copy()"
   ]
  },
  {
   "cell_type": "code",
   "execution_count": null,
   "id": "677863c4",
   "metadata": {},
   "outputs": [
    {
     "data": {
      "application/vnd.microsoft.datawrangler.viewer.v0+json": {
       "columns": [
        {
         "name": "index",
         "rawType": "object",
         "type": "string"
        },
        {
         "name": "count",
         "rawType": "object",
         "type": "unknown"
        },
        {
         "name": "mean",
         "rawType": "object",
         "type": "unknown"
        },
        {
         "name": "min",
         "rawType": "object",
         "type": "unknown"
        },
        {
         "name": "25%",
         "rawType": "object",
         "type": "unknown"
        },
        {
         "name": "50%",
         "rawType": "object",
         "type": "unknown"
        },
        {
         "name": "75%",
         "rawType": "object",
         "type": "unknown"
        },
        {
         "name": "max",
         "rawType": "object",
         "type": "unknown"
        },
        {
         "name": "std",
         "rawType": "object",
         "type": "unknown"
        }
       ],
       "ref": "910812e6-a80f-4e19-b641-6f8769a91a3c",
       "rows": [
        [
         "ID",
         "2216.0",
         "5588.35333935018",
         "0.0",
         "2814.75",
         "5458.5",
         "8421.75",
         "11191.0",
         "3249.3762748134695"
        ],
        [
         "Year_Birth",
         "2216.0",
         "1968.8203971119133",
         "1893.0",
         "1959.0",
         "1970.0",
         "1977.0",
         "1996.0",
         "11.985554097352392"
        ],
        [
         "Income",
         "2216.0",
         "52247.25135379061",
         "1730.0",
         "35303.0",
         "51381.5",
         "68522.0",
         "666666.0",
         "25173.07666090141"
        ],
        [
         "Kidhome",
         "2216.0",
         "0.4417870036101083",
         "0.0",
         "0.0",
         "0.0",
         "1.0",
         "2.0",
         "0.5368962401346744"
        ],
        [
         "Teenhome",
         "2216.0",
         "0.5054151624548736",
         "0.0",
         "0.0",
         "0.0",
         "1.0",
         "2.0",
         "0.5441812115402913"
        ],
        [
         "Dt_Customer",
         "2216",
         "2013-07-10 11:29:27.509025280",
         "2012-07-30 00:00:00",
         "2013-01-16 00:00:00",
         "2013-07-08 12:00:00",
         "2013-12-31 00:00:00",
         "2014-06-29 00:00:00",
         null
        ],
        [
         "Recency",
         "2216.0",
         "49.01263537906137",
         "0.0",
         "24.0",
         "49.0",
         "74.0",
         "99.0",
         "28.948351658625004"
        ],
        [
         "MntWines",
         "2216.0",
         "305.09160649819495",
         "0.0",
         "24.0",
         "174.5",
         "505.0",
         "1493.0",
         "337.32792011667146"
        ],
        [
         "MntFruits",
         "2216.0",
         "26.356046931407942",
         "0.0",
         "2.0",
         "8.0",
         "33.0",
         "199.0",
         "39.79391651823868"
        ],
        [
         "MntMeatProducts",
         "2216.0",
         "166.99593862815885",
         "0.0",
         "16.0",
         "68.0",
         "232.25",
         "1725.0",
         "224.2832727589817"
        ],
        [
         "MntFishProducts",
         "2216.0",
         "37.63763537906137",
         "0.0",
         "3.0",
         "12.0",
         "50.0",
         "259.0",
         "54.7520824148518"
        ],
        [
         "MntSweetProducts",
         "2216.0",
         "27.028880866425993",
         "0.0",
         "1.0",
         "8.0",
         "33.0",
         "262.0",
         "41.07204566698228"
        ],
        [
         "MntGoldProds",
         "2216.0",
         "43.96525270758123",
         "0.0",
         "9.0",
         "24.5",
         "56.0",
         "321.0",
         "51.815414374473576"
        ],
        [
         "NumDealsPurchases",
         "2216.0",
         "2.3235559566787005",
         "0.0",
         "1.0",
         "2.0",
         "3.0",
         "15.0",
         "1.9237156460115055"
        ],
        [
         "NumWebPurchases",
         "2216.0",
         "4.08528880866426",
         "0.0",
         "2.0",
         "4.0",
         "6.0",
         "27.0",
         "2.740951081014707"
        ],
        [
         "NumCatalogPurchases",
         "2216.0",
         "2.671028880866426",
         "0.0",
         "0.0",
         "2.0",
         "4.0",
         "28.0",
         "2.926733636008002"
        ],
        [
         "NumStorePurchases",
         "2216.0",
         "5.800992779783393",
         "0.0",
         "3.0",
         "5.0",
         "8.0",
         "13.0",
         "3.250784785670548"
        ],
        [
         "NumWebVisitsMonth",
         "2216.0",
         "5.319043321299639",
         "0.0",
         "3.0",
         "6.0",
         "7.0",
         "20.0",
         "2.425358540606439"
        ],
        [
         "AcceptedCmp3",
         "2216.0",
         "0.07355595667870037",
         "0.0",
         "0.0",
         "0.0",
         "0.0",
         "1.0",
         "0.261105808760676"
        ],
        [
         "AcceptedCmp4",
         "2216.0",
         "0.0740072202166065",
         "0.0",
         "0.0",
         "0.0",
         "0.0",
         "1.0",
         "0.2618417283260305"
        ],
        [
         "AcceptedCmp5",
         "2216.0",
         "0.07310469314079422",
         "0.0",
         "0.0",
         "0.0",
         "0.0",
         "1.0",
         "0.2603670266814354"
        ],
        [
         "AcceptedCmp1",
         "2216.0",
         "0.06407942238267147",
         "0.0",
         "0.0",
         "0.0",
         "0.0",
         "1.0",
         "0.24494963965915328"
        ],
        [
         "AcceptedCmp2",
         "2216.0",
         "0.013537906137184115",
         "0.0",
         "0.0",
         "0.0",
         "0.0",
         "1.0",
         "0.1155883229980072"
        ],
        [
         "Complain",
         "2216.0",
         "0.00947653429602888",
         "0.0",
         "0.0",
         "0.0",
         "0.0",
         "1.0",
         "0.09690700384871939"
        ],
        [
         "Z_CostContact",
         "2216.0",
         "3.0",
         "3.0",
         "3.0",
         "3.0",
         "3.0",
         "3.0",
         "0.0"
        ],
        [
         "Z_Revenue",
         "2216.0",
         "11.0",
         "11.0",
         "11.0",
         "11.0",
         "11.0",
         "11.0",
         "0.0"
        ],
        [
         "Response",
         "2216.0",
         "0.15027075812274368",
         "0.0",
         "0.0",
         "0.0",
         "0.0",
         "1.0",
         "0.3574172701290667"
        ],
        [
         "Year",
         "2216.0",
         "2013.028429602888",
         "2012.0",
         "2013.0",
         "2013.0",
         "2013.0",
         "2014.0",
         "0.6856177899956069"
        ],
        [
         "Tenure",
         "2216.0",
         "353.5212093862816",
         "0.0",
         "180.0",
         "355.5",
         "529.0",
         "699.0",
         "202.43466744562022"
        ],
        [
         "Customer_Active_Days",
         "2216.0",
         "4408.521209386282",
         "4055.0",
         "4235.0",
         "4410.5",
         "4584.0",
         "4754.0",
         "202.43466744562022"
        ],
        [
         "Total_Spent",
         "2216.0",
         "607.0753610108303",
         "5.0",
         "69.0",
         "396.5",
         "1048.0",
         "2525.0",
         "602.9004763523358"
        ],
        [
         "Total_Purchases",
         "2216.0",
         "14.88086642599278",
         "0.0",
         "8.0",
         "15.0",
         "21.0",
         "44.0",
         "7.670957475722257"
        ],
        [
         "Web_Ratio",
         "2212.0",
         "0.26726500387154495",
         "0.0",
         "0.2",
         "0.2608695652173913",
         "0.3333333333333333",
         "1.0",
         "0.09845568529769602"
        ],
        [
         "Store_Ratio",
         "2212.0",
         "0.40973777266061195",
         "0.0",
         "0.3333333333333333",
         "0.4117647058823529",
         "0.5",
         "1.0",
         "0.11884193793420164"
        ],
        [
         "Deal_Ratio",
         "2212.0",
         "0.18057745892987853",
         "0.0",
         "0.07692307692307693",
         "0.16666666666666666",
         "0.25",
         "1.0",
         "0.11104379244258114"
        ],
        [
         "Total_Children",
         "2216.0",
         "0.947202166064982",
         "0.0",
         "0.0",
         "1.0",
         "1.0",
         "3.0",
         "0.7490619124789915"
        ],
        [
         "Is_Parent",
         "2216.0",
         "0.7143501805054152",
         "0.0",
         "0.0",
         "1.0",
         "1.0",
         "1.0",
         "0.4518253244555763"
        ],
        [
         "Age",
         "2216.0",
         "56.17960288808664",
         "29.0",
         "48.0",
         "55.0",
         "66.0",
         "132.0",
         "11.985554097352377"
        ],
        [
         "Education_Level_graduate",
         "2216.0",
         "0.0",
         "0.0",
         "0.0",
         "0.0",
         "0.0",
         "0.0",
         "0.0"
        ]
       ],
       "shape": {
        "columns": 8,
        "rows": 39
       }
      },
      "text/html": [
       "<div>\n",
       "<style scoped>\n",
       "    .dataframe tbody tr th:only-of-type {\n",
       "        vertical-align: middle;\n",
       "    }\n",
       "\n",
       "    .dataframe tbody tr th {\n",
       "        vertical-align: top;\n",
       "    }\n",
       "\n",
       "    .dataframe thead th {\n",
       "        text-align: right;\n",
       "    }\n",
       "</style>\n",
       "<table border=\"1\" class=\"dataframe\">\n",
       "  <thead>\n",
       "    <tr style=\"text-align: right;\">\n",
       "      <th></th>\n",
       "      <th>count</th>\n",
       "      <th>mean</th>\n",
       "      <th>min</th>\n",
       "      <th>25%</th>\n",
       "      <th>50%</th>\n",
       "      <th>75%</th>\n",
       "      <th>max</th>\n",
       "      <th>std</th>\n",
       "    </tr>\n",
       "  </thead>\n",
       "  <tbody>\n",
       "    <tr>\n",
       "      <th>ID</th>\n",
       "      <td>2216.0</td>\n",
       "      <td>5588.353339</td>\n",
       "      <td>0.0</td>\n",
       "      <td>2814.75</td>\n",
       "      <td>5458.5</td>\n",
       "      <td>8421.75</td>\n",
       "      <td>11191.0</td>\n",
       "      <td>3249.376275</td>\n",
       "    </tr>\n",
       "    <tr>\n",
       "      <th>Year_Birth</th>\n",
       "      <td>2216.0</td>\n",
       "      <td>1968.820397</td>\n",
       "      <td>1893.0</td>\n",
       "      <td>1959.0</td>\n",
       "      <td>1970.0</td>\n",
       "      <td>1977.0</td>\n",
       "      <td>1996.0</td>\n",
       "      <td>11.985554</td>\n",
       "    </tr>\n",
       "    <tr>\n",
       "      <th>Income</th>\n",
       "      <td>2216.0</td>\n",
       "      <td>52247.251354</td>\n",
       "      <td>1730.0</td>\n",
       "      <td>35303.0</td>\n",
       "      <td>51381.5</td>\n",
       "      <td>68522.0</td>\n",
       "      <td>666666.0</td>\n",
       "      <td>25173.076661</td>\n",
       "    </tr>\n",
       "    <tr>\n",
       "      <th>Kidhome</th>\n",
       "      <td>2216.0</td>\n",
       "      <td>0.441787</td>\n",
       "      <td>0.0</td>\n",
       "      <td>0.0</td>\n",
       "      <td>0.0</td>\n",
       "      <td>1.0</td>\n",
       "      <td>2.0</td>\n",
       "      <td>0.536896</td>\n",
       "    </tr>\n",
       "    <tr>\n",
       "      <th>Teenhome</th>\n",
       "      <td>2216.0</td>\n",
       "      <td>0.505415</td>\n",
       "      <td>0.0</td>\n",
       "      <td>0.0</td>\n",
       "      <td>0.0</td>\n",
       "      <td>1.0</td>\n",
       "      <td>2.0</td>\n",
       "      <td>0.544181</td>\n",
       "    </tr>\n",
       "    <tr>\n",
       "      <th>...</th>\n",
       "      <td>...</td>\n",
       "      <td>...</td>\n",
       "      <td>...</td>\n",
       "      <td>...</td>\n",
       "      <td>...</td>\n",
       "      <td>...</td>\n",
       "      <td>...</td>\n",
       "      <td>...</td>\n",
       "    </tr>\n",
       "    <tr>\n",
       "      <th>Deal_Ratio</th>\n",
       "      <td>2212.0</td>\n",
       "      <td>0.180577</td>\n",
       "      <td>0.0</td>\n",
       "      <td>0.076923</td>\n",
       "      <td>0.166667</td>\n",
       "      <td>0.25</td>\n",
       "      <td>1.0</td>\n",
       "      <td>0.111044</td>\n",
       "    </tr>\n",
       "    <tr>\n",
       "      <th>Total_Children</th>\n",
       "      <td>2216.0</td>\n",
       "      <td>0.947202</td>\n",
       "      <td>0.0</td>\n",
       "      <td>0.0</td>\n",
       "      <td>1.0</td>\n",
       "      <td>1.0</td>\n",
       "      <td>3.0</td>\n",
       "      <td>0.749062</td>\n",
       "    </tr>\n",
       "    <tr>\n",
       "      <th>Is_Parent</th>\n",
       "      <td>2216.0</td>\n",
       "      <td>0.71435</td>\n",
       "      <td>0.0</td>\n",
       "      <td>0.0</td>\n",
       "      <td>1.0</td>\n",
       "      <td>1.0</td>\n",
       "      <td>1.0</td>\n",
       "      <td>0.451825</td>\n",
       "    </tr>\n",
       "    <tr>\n",
       "      <th>Age</th>\n",
       "      <td>2216.0</td>\n",
       "      <td>56.179603</td>\n",
       "      <td>29.0</td>\n",
       "      <td>48.0</td>\n",
       "      <td>55.0</td>\n",
       "      <td>66.0</td>\n",
       "      <td>132.0</td>\n",
       "      <td>11.985554</td>\n",
       "    </tr>\n",
       "    <tr>\n",
       "      <th>Education_Level_graduate</th>\n",
       "      <td>2216.0</td>\n",
       "      <td>0.0</td>\n",
       "      <td>0.0</td>\n",
       "      <td>0.0</td>\n",
       "      <td>0.0</td>\n",
       "      <td>0.0</td>\n",
       "      <td>0.0</td>\n",
       "      <td>0.0</td>\n",
       "    </tr>\n",
       "  </tbody>\n",
       "</table>\n",
       "<p>39 rows × 8 columns</p>\n",
       "</div>"
      ],
      "text/plain": [
       "                           count          mean     min       25%       50%  \\\n",
       "ID                        2216.0   5588.353339     0.0   2814.75    5458.5   \n",
       "Year_Birth                2216.0   1968.820397  1893.0    1959.0    1970.0   \n",
       "Income                    2216.0  52247.251354  1730.0   35303.0   51381.5   \n",
       "Kidhome                   2216.0      0.441787     0.0       0.0       0.0   \n",
       "Teenhome                  2216.0      0.505415     0.0       0.0       0.0   \n",
       "...                          ...           ...     ...       ...       ...   \n",
       "Deal_Ratio                2212.0      0.180577     0.0  0.076923  0.166667   \n",
       "Total_Children            2216.0      0.947202     0.0       0.0       1.0   \n",
       "Is_Parent                 2216.0       0.71435     0.0       0.0       1.0   \n",
       "Age                       2216.0     56.179603    29.0      48.0      55.0   \n",
       "Education_Level_graduate  2216.0           0.0     0.0       0.0       0.0   \n",
       "\n",
       "                              75%       max           std  \n",
       "ID                        8421.75   11191.0   3249.376275  \n",
       "Year_Birth                 1977.0    1996.0     11.985554  \n",
       "Income                    68522.0  666666.0  25173.076661  \n",
       "Kidhome                       1.0       2.0      0.536896  \n",
       "Teenhome                      1.0       2.0      0.544181  \n",
       "...                           ...       ...           ...  \n",
       "Deal_Ratio                   0.25       1.0      0.111044  \n",
       "Total_Children                1.0       3.0      0.749062  \n",
       "Is_Parent                     1.0       1.0      0.451825  \n",
       "Age                          66.0     132.0     11.985554  \n",
       "Education_Level_graduate      0.0       0.0           0.0  \n",
       "\n",
       "[39 rows x 8 columns]"
      ]
     },
     "execution_count": 75,
     "metadata": {},
     "output_type": "execute_result"
    }
   ],
   "source": [
    "df.describe().T"
   ]
  },
  {
   "cell_type": "code",
   "execution_count": null,
   "id": "4b873729",
   "metadata": {},
   "outputs": [
    {
     "data": {
      "application/vnd.microsoft.datawrangler.viewer.v0+json": {
       "columns": [
        {
         "name": "index",
         "rawType": "object",
         "type": "string"
        },
        {
         "name": "count",
         "rawType": "float64",
         "type": "float"
        },
        {
         "name": "mean",
         "rawType": "float64",
         "type": "float"
        },
        {
         "name": "std",
         "rawType": "float64",
         "type": "float"
        },
        {
         "name": "min",
         "rawType": "float64",
         "type": "float"
        },
        {
         "name": "25%",
         "rawType": "float64",
         "type": "float"
        },
        {
         "name": "50%",
         "rawType": "float64",
         "type": "float"
        },
        {
         "name": "75%",
         "rawType": "float64",
         "type": "float"
        },
        {
         "name": "max",
         "rawType": "float64",
         "type": "float"
        }
       ],
       "ref": "97a3e94b-a38c-41f5-bd79-622908632ed5",
       "rows": [
        [
         "Income",
         "2216.0",
         "52247.25135379061",
         "25173.07666090141",
         "1730.0",
         "35303.0",
         "51381.5",
         "68522.0",
         "666666.0"
        ],
        [
         "Age",
         "2216.0",
         "56.17960288808664",
         "11.985554097352377",
         "29.0",
         "48.0",
         "55.0",
         "66.0",
         "132.0"
        ],
        [
         "Total_Spent",
         "2216.0",
         "607.0753610108303",
         "602.9004763523358",
         "5.0",
         "69.0",
         "396.5",
         "1048.0",
         "2525.0"
        ],
        [
         "Total_Purchases",
         "2216.0",
         "14.88086642599278",
         "7.670957475722257",
         "0.0",
         "8.0",
         "15.0",
         "21.0",
         "44.0"
        ],
        [
         "Tenure",
         "2216.0",
         "353.5212093862816",
         "202.43466744562022",
         "0.0",
         "180.0",
         "355.5",
         "529.0",
         "699.0"
        ],
        [
         "Web_Ratio",
         "2212.0",
         "0.26726500387154495",
         "0.09845568529769602",
         "0.0",
         "0.2",
         "0.2608695652173913",
         "0.3333333333333333",
         "1.0"
        ],
        [
         "Store_Ratio",
         "2212.0",
         "0.40973777266061195",
         "0.11884193793420164",
         "0.0",
         "0.3333333333333333",
         "0.4117647058823529",
         "0.5",
         "1.0"
        ],
        [
         "Deal_Ratio",
         "2212.0",
         "0.18057745892987853",
         "0.11104379244258114",
         "0.0",
         "0.07692307692307693",
         "0.16666666666666666",
         "0.25",
         "1.0"
        ],
        [
         "Is_Parent",
         "2216.0",
         "0.7143501805054152",
         "0.4518253244555763",
         "0.0",
         "0.0",
         "1.0",
         "1.0",
         "1.0"
        ],
        [
         "Total_Children",
         "2216.0",
         "0.947202166064982",
         "0.7490619124789915",
         "0.0",
         "0.0",
         "1.0",
         "1.0",
         "3.0"
        ],
        [
         "Education_Level_graduate",
         "2216.0",
         "0.0",
         "0.0",
         "0.0",
         "0.0",
         "0.0",
         "0.0",
         "0.0"
        ]
       ],
       "shape": {
        "columns": 8,
        "rows": 11
       }
      },
      "text/html": [
       "<div>\n",
       "<style scoped>\n",
       "    .dataframe tbody tr th:only-of-type {\n",
       "        vertical-align: middle;\n",
       "    }\n",
       "\n",
       "    .dataframe tbody tr th {\n",
       "        vertical-align: top;\n",
       "    }\n",
       "\n",
       "    .dataframe thead th {\n",
       "        text-align: right;\n",
       "    }\n",
       "</style>\n",
       "<table border=\"1\" class=\"dataframe\">\n",
       "  <thead>\n",
       "    <tr style=\"text-align: right;\">\n",
       "      <th></th>\n",
       "      <th>count</th>\n",
       "      <th>mean</th>\n",
       "      <th>std</th>\n",
       "      <th>min</th>\n",
       "      <th>25%</th>\n",
       "      <th>50%</th>\n",
       "      <th>75%</th>\n",
       "      <th>max</th>\n",
       "    </tr>\n",
       "  </thead>\n",
       "  <tbody>\n",
       "    <tr>\n",
       "      <th>Income</th>\n",
       "      <td>2216.0</td>\n",
       "      <td>52247.251354</td>\n",
       "      <td>25173.076661</td>\n",
       "      <td>1730.0</td>\n",
       "      <td>35303.000000</td>\n",
       "      <td>51381.500000</td>\n",
       "      <td>68522.000000</td>\n",
       "      <td>666666.0</td>\n",
       "    </tr>\n",
       "    <tr>\n",
       "      <th>Age</th>\n",
       "      <td>2216.0</td>\n",
       "      <td>56.179603</td>\n",
       "      <td>11.985554</td>\n",
       "      <td>29.0</td>\n",
       "      <td>48.000000</td>\n",
       "      <td>55.000000</td>\n",
       "      <td>66.000000</td>\n",
       "      <td>132.0</td>\n",
       "    </tr>\n",
       "    <tr>\n",
       "      <th>Total_Spent</th>\n",
       "      <td>2216.0</td>\n",
       "      <td>607.075361</td>\n",
       "      <td>602.900476</td>\n",
       "      <td>5.0</td>\n",
       "      <td>69.000000</td>\n",
       "      <td>396.500000</td>\n",
       "      <td>1048.000000</td>\n",
       "      <td>2525.0</td>\n",
       "    </tr>\n",
       "    <tr>\n",
       "      <th>Total_Purchases</th>\n",
       "      <td>2216.0</td>\n",
       "      <td>14.880866</td>\n",
       "      <td>7.670957</td>\n",
       "      <td>0.0</td>\n",
       "      <td>8.000000</td>\n",
       "      <td>15.000000</td>\n",
       "      <td>21.000000</td>\n",
       "      <td>44.0</td>\n",
       "    </tr>\n",
       "    <tr>\n",
       "      <th>Tenure</th>\n",
       "      <td>2216.0</td>\n",
       "      <td>353.521209</td>\n",
       "      <td>202.434667</td>\n",
       "      <td>0.0</td>\n",
       "      <td>180.000000</td>\n",
       "      <td>355.500000</td>\n",
       "      <td>529.000000</td>\n",
       "      <td>699.0</td>\n",
       "    </tr>\n",
       "    <tr>\n",
       "      <th>Web_Ratio</th>\n",
       "      <td>2212.0</td>\n",
       "      <td>0.267265</td>\n",
       "      <td>0.098456</td>\n",
       "      <td>0.0</td>\n",
       "      <td>0.200000</td>\n",
       "      <td>0.260870</td>\n",
       "      <td>0.333333</td>\n",
       "      <td>1.0</td>\n",
       "    </tr>\n",
       "    <tr>\n",
       "      <th>Store_Ratio</th>\n",
       "      <td>2212.0</td>\n",
       "      <td>0.409738</td>\n",
       "      <td>0.118842</td>\n",
       "      <td>0.0</td>\n",
       "      <td>0.333333</td>\n",
       "      <td>0.411765</td>\n",
       "      <td>0.500000</td>\n",
       "      <td>1.0</td>\n",
       "    </tr>\n",
       "    <tr>\n",
       "      <th>Deal_Ratio</th>\n",
       "      <td>2212.0</td>\n",
       "      <td>0.180577</td>\n",
       "      <td>0.111044</td>\n",
       "      <td>0.0</td>\n",
       "      <td>0.076923</td>\n",
       "      <td>0.166667</td>\n",
       "      <td>0.250000</td>\n",
       "      <td>1.0</td>\n",
       "    </tr>\n",
       "    <tr>\n",
       "      <th>Is_Parent</th>\n",
       "      <td>2216.0</td>\n",
       "      <td>0.714350</td>\n",
       "      <td>0.451825</td>\n",
       "      <td>0.0</td>\n",
       "      <td>0.000000</td>\n",
       "      <td>1.000000</td>\n",
       "      <td>1.000000</td>\n",
       "      <td>1.0</td>\n",
       "    </tr>\n",
       "    <tr>\n",
       "      <th>Total_Children</th>\n",
       "      <td>2216.0</td>\n",
       "      <td>0.947202</td>\n",
       "      <td>0.749062</td>\n",
       "      <td>0.0</td>\n",
       "      <td>0.000000</td>\n",
       "      <td>1.000000</td>\n",
       "      <td>1.000000</td>\n",
       "      <td>3.0</td>\n",
       "    </tr>\n",
       "    <tr>\n",
       "      <th>Education_Level_graduate</th>\n",
       "      <td>2216.0</td>\n",
       "      <td>0.000000</td>\n",
       "      <td>0.000000</td>\n",
       "      <td>0.0</td>\n",
       "      <td>0.000000</td>\n",
       "      <td>0.000000</td>\n",
       "      <td>0.000000</td>\n",
       "      <td>0.0</td>\n",
       "    </tr>\n",
       "  </tbody>\n",
       "</table>\n",
       "</div>"
      ],
      "text/plain": [
       "                           count          mean           std     min  \\\n",
       "Income                    2216.0  52247.251354  25173.076661  1730.0   \n",
       "Age                       2216.0     56.179603     11.985554    29.0   \n",
       "Total_Spent               2216.0    607.075361    602.900476     5.0   \n",
       "Total_Purchases           2216.0     14.880866      7.670957     0.0   \n",
       "Tenure                    2216.0    353.521209    202.434667     0.0   \n",
       "Web_Ratio                 2212.0      0.267265      0.098456     0.0   \n",
       "Store_Ratio               2212.0      0.409738      0.118842     0.0   \n",
       "Deal_Ratio                2212.0      0.180577      0.111044     0.0   \n",
       "Is_Parent                 2216.0      0.714350      0.451825     0.0   \n",
       "Total_Children            2216.0      0.947202      0.749062     0.0   \n",
       "Education_Level_graduate  2216.0      0.000000      0.000000     0.0   \n",
       "\n",
       "                                   25%           50%           75%       max  \n",
       "Income                    35303.000000  51381.500000  68522.000000  666666.0  \n",
       "Age                          48.000000     55.000000     66.000000     132.0  \n",
       "Total_Spent                  69.000000    396.500000   1048.000000    2525.0  \n",
       "Total_Purchases               8.000000     15.000000     21.000000      44.0  \n",
       "Tenure                      180.000000    355.500000    529.000000     699.0  \n",
       "Web_Ratio                     0.200000      0.260870      0.333333       1.0  \n",
       "Store_Ratio                   0.333333      0.411765      0.500000       1.0  \n",
       "Deal_Ratio                    0.076923      0.166667      0.250000       1.0  \n",
       "Is_Parent                     0.000000      1.000000      1.000000       1.0  \n",
       "Total_Children                0.000000      1.000000      1.000000       3.0  \n",
       "Education_Level_graduate      0.000000      0.000000      0.000000       0.0  "
      ]
     },
     "execution_count": 76,
     "metadata": {},
     "output_type": "execute_result"
    }
   ],
   "source": [
    "cluster_data.describe().T"
   ]
  },
  {
   "cell_type": "code",
   "execution_count": null,
   "id": "070471a2",
   "metadata": {},
   "outputs": [],
   "source": [
    "# Scale the data\n",
    "scaler = StandardScaler()\n",
    "scaled_data = scaler.fit_transform(cluster_data)"
   ]
  },
  {
   "cell_type": "code",
   "execution_count": null,
   "id": "72232d3c",
   "metadata": {},
   "outputs": [],
   "source": [
    "plotting_cols = [ \"Income\", \"Recency\", \"Customer_Active_Days\", \"Age\", \"Total_Spent\", \"Is_Parent\"]\n",
    "\n",
    "sns.pairplot(data = df[plotting_cols]\n",
    "             , hue = 'Is_Parent'\n",
    "             , palette= (['steelblue','darkorange'])\n",
    ")\n",
    "plt.show()"
   ]
  }
 ],
 "metadata": {
  "kernelspec": {
   "display_name": "base",
   "language": "python",
   "name": "python3"
  },
  "language_info": {
   "codemirror_mode": {
    "name": "ipython",
    "version": 3
   },
   "file_extension": ".py",
   "mimetype": "text/x-python",
   "name": "python",
   "nbconvert_exporter": "python",
   "pygments_lexer": "ipython3",
   "version": "3.12.7"
  }
 },
 "nbformat": 4,
 "nbformat_minor": 5
}
